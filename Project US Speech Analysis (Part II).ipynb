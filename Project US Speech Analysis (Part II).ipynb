{
 "cells": [
  {
   "cell_type": "markdown",
   "metadata": {},
   "source": [
    "# Part 2: Engineering columns from existing data using Pandas"
   ]
  },
  {
   "cell_type": "code",
   "execution_count": 16,
   "metadata": {},
   "outputs": [],
   "source": [
    "import pandas as pd\n",
    "import matplotlib.pyplot as plt\n",
    "import seaborn as sns\n",
    "import readability"
   ]
  },
  {
   "cell_type": "code",
   "execution_count": 2,
   "metadata": {},
   "outputs": [],
   "source": [
    "speeches = pd.read_csv(\"part1.csv\", index_col = 0)"
   ]
  },
  {
   "cell_type": "code",
   "execution_count": 3,
   "metadata": {},
   "outputs": [],
   "source": [
    "speeches = speeches.assign(len_speech = lambda speeches: speeches['speech'].map(lambda x: len(x)))# - x.count(\",\")))\n",
    "# speeches"
   ]
  },
  {
   "cell_type": "code",
   "execution_count": 4,
   "metadata": {
    "scrolled": true
   },
   "outputs": [],
   "source": [
    "# Replace ?/! with .\n",
    "cleaned_speeches = speeches.copy()\n",
    "cleaned_speeches[\"speech\"] = cleaned_speeches[\"speech\"].str.replace(\"!\",\".\", regex = True) \n",
    "cleaned_speeches[\"speech\"] = cleaned_speeches[\"speech\"].str.replace(\"?\",\".\", regex = True) \n",
    "# cleaned_speeches"
   ]
  },
  {
   "cell_type": "code",
   "execution_count": 5,
   "metadata": {},
   "outputs": [
    {
     "data": {
      "text/html": [
       "<div>\n",
       "<style scoped>\n",
       "    .dataframe tbody tr th:only-of-type {\n",
       "        vertical-align: middle;\n",
       "    }\n",
       "\n",
       "    .dataframe tbody tr th {\n",
       "        vertical-align: top;\n",
       "    }\n",
       "\n",
       "    .dataframe thead th {\n",
       "        text-align: right;\n",
       "    }\n",
       "</style>\n",
       "<table border=\"1\" class=\"dataframe\">\n",
       "  <thead>\n",
       "    <tr style=\"text-align: right;\">\n",
       "      <th></th>\n",
       "      <th>filename</th>\n",
       "      <th>name</th>\n",
       "      <th>year</th>\n",
       "      <th>speech</th>\n",
       "      <th>len_speech</th>\n",
       "      <th>sentences</th>\n",
       "      <th>num_sentences</th>\n",
       "    </tr>\n",
       "  </thead>\n",
       "  <tbody>\n",
       "    <tr>\n",
       "      <th>0</th>\n",
       "      <td>speeches\\obama2010.txt</td>\n",
       "      <td>obama</td>\n",
       "      <td>2010</td>\n",
       "      <td>Madam Speaker, Vice President Biden, members o...</td>\n",
       "      <td>43698</td>\n",
       "      <td>[Madam Speaker, Vice President Biden, members ...</td>\n",
       "      <td>562</td>\n",
       "    </tr>\n",
       "    <tr>\n",
       "      <th>1</th>\n",
       "      <td>speeches\\obama2011.txt</td>\n",
       "      <td>obama</td>\n",
       "      <td>2011</td>\n",
       "      <td>Mr. Speaker, Mr. Vice President, members of Co...</td>\n",
       "      <td>41023</td>\n",
       "      <td>[Mr,  Speaker, Mr,  Vice President, members of...</td>\n",
       "      <td>500</td>\n",
       "    </tr>\n",
       "    <tr>\n",
       "      <th>2</th>\n",
       "      <td>speeches\\obama2012.txt</td>\n",
       "      <td>obama</td>\n",
       "      <td>2012</td>\n",
       "      <td>Mr. Speaker, Mr. Vice President, members of C...</td>\n",
       "      <td>42204</td>\n",
       "      <td>[ Mr,  Speaker, Mr,  Vice President, members o...</td>\n",
       "      <td>518</td>\n",
       "    </tr>\n",
       "    <tr>\n",
       "      <th>3</th>\n",
       "      <td>speeches\\obama2013.txt</td>\n",
       "      <td>obama</td>\n",
       "      <td>2013</td>\n",
       "      <td>Mr. Speaker, Mr. Vice President, members of Co...</td>\n",
       "      <td>41202</td>\n",
       "      <td>[Mr,  Speaker, Mr,  Vice President, members of...</td>\n",
       "      <td>455</td>\n",
       "    </tr>\n",
       "    <tr>\n",
       "      <th>4</th>\n",
       "      <td>speeches\\obama2014.txt</td>\n",
       "      <td>obama</td>\n",
       "      <td>2014</td>\n",
       "      <td>Mr. Speaker, Mr. Vice President, Members of Co...</td>\n",
       "      <td>40009</td>\n",
       "      <td>[Mr,  Speaker, Mr,  Vice President, Members of...</td>\n",
       "      <td>352</td>\n",
       "    </tr>\n",
       "  </tbody>\n",
       "</table>\n",
       "</div>"
      ],
      "text/plain": [
       "                 filename   name  year  \\\n",
       "0  speeches\\obama2010.txt  obama  2010   \n",
       "1  speeches\\obama2011.txt  obama  2011   \n",
       "2  speeches\\obama2012.txt  obama  2012   \n",
       "3  speeches\\obama2013.txt  obama  2013   \n",
       "4  speeches\\obama2014.txt  obama  2014   \n",
       "\n",
       "                                              speech  len_speech  \\\n",
       "0  Madam Speaker, Vice President Biden, members o...       43698   \n",
       "1  Mr. Speaker, Mr. Vice President, members of Co...       41023   \n",
       "2   Mr. Speaker, Mr. Vice President, members of C...       42204   \n",
       "3  Mr. Speaker, Mr. Vice President, members of Co...       41202   \n",
       "4  Mr. Speaker, Mr. Vice President, Members of Co...       40009   \n",
       "\n",
       "                                           sentences  num_sentences  \n",
       "0  [Madam Speaker, Vice President Biden, members ...            562  \n",
       "1  [Mr,  Speaker, Mr,  Vice President, members of...            500  \n",
       "2  [ Mr,  Speaker, Mr,  Vice President, members o...            518  \n",
       "3  [Mr,  Speaker, Mr,  Vice President, members of...            455  \n",
       "4  [Mr,  Speaker, Mr,  Vice President, Members of...            352  "
      ]
     },
     "execution_count": 5,
     "metadata": {},
     "output_type": "execute_result"
    }
   ],
   "source": [
    "# Split speech into sentences and calculate length\n",
    "cleaned_speeches[\"sentences\"] = cleaned_speeches.speech.apply(lambda x: x.split(\".\"))\n",
    "cleaned_speeches = cleaned_speeches.assign(num_sentences = lambda cleaned_speeches: cleaned_speeches['sentences'].map(lambda x: len(x)))\n",
    "cleaned_speeches.head()"
   ]
  },
  {
   "cell_type": "code",
   "execution_count": 6,
   "metadata": {},
   "outputs": [
    {
     "data": {
      "text/html": [
       "<div>\n",
       "<style scoped>\n",
       "    .dataframe tbody tr th:only-of-type {\n",
       "        vertical-align: middle;\n",
       "    }\n",
       "\n",
       "    .dataframe tbody tr th {\n",
       "        vertical-align: top;\n",
       "    }\n",
       "\n",
       "    .dataframe thead th {\n",
       "        text-align: right;\n",
       "    }\n",
       "</style>\n",
       "<table border=\"1\" class=\"dataframe\">\n",
       "  <thead>\n",
       "    <tr style=\"text-align: right;\">\n",
       "      <th></th>\n",
       "      <th>filename</th>\n",
       "      <th>name</th>\n",
       "      <th>year</th>\n",
       "      <th>speech</th>\n",
       "      <th>len_speech</th>\n",
       "      <th>sentences</th>\n",
       "      <th>num_sentences</th>\n",
       "      <th>average_sen_length</th>\n",
       "    </tr>\n",
       "  </thead>\n",
       "  <tbody>\n",
       "    <tr>\n",
       "      <th>0</th>\n",
       "      <td>speeches\\obama2010.txt</td>\n",
       "      <td>obama</td>\n",
       "      <td>2010</td>\n",
       "      <td>Madam Speaker, Vice President Biden, members o...</td>\n",
       "      <td>43698</td>\n",
       "      <td>[Madam Speaker, Vice President Biden, members ...</td>\n",
       "      <td>562</td>\n",
       "      <td>77.754448</td>\n",
       "    </tr>\n",
       "    <tr>\n",
       "      <th>1</th>\n",
       "      <td>speeches\\obama2011.txt</td>\n",
       "      <td>obama</td>\n",
       "      <td>2011</td>\n",
       "      <td>Mr. Speaker, Mr. Vice President, members of Co...</td>\n",
       "      <td>41023</td>\n",
       "      <td>[Mr,  Speaker, Mr,  Vice President, members of...</td>\n",
       "      <td>500</td>\n",
       "      <td>82.046000</td>\n",
       "    </tr>\n",
       "    <tr>\n",
       "      <th>2</th>\n",
       "      <td>speeches\\obama2012.txt</td>\n",
       "      <td>obama</td>\n",
       "      <td>2012</td>\n",
       "      <td>Mr. Speaker, Mr. Vice President, members of C...</td>\n",
       "      <td>42204</td>\n",
       "      <td>[ Mr,  Speaker, Mr,  Vice President, members o...</td>\n",
       "      <td>518</td>\n",
       "      <td>81.474903</td>\n",
       "    </tr>\n",
       "    <tr>\n",
       "      <th>3</th>\n",
       "      <td>speeches\\obama2013.txt</td>\n",
       "      <td>obama</td>\n",
       "      <td>2013</td>\n",
       "      <td>Mr. Speaker, Mr. Vice President, members of Co...</td>\n",
       "      <td>41202</td>\n",
       "      <td>[Mr,  Speaker, Mr,  Vice President, members of...</td>\n",
       "      <td>455</td>\n",
       "      <td>90.553846</td>\n",
       "    </tr>\n",
       "    <tr>\n",
       "      <th>4</th>\n",
       "      <td>speeches\\obama2014.txt</td>\n",
       "      <td>obama</td>\n",
       "      <td>2014</td>\n",
       "      <td>Mr. Speaker, Mr. Vice President, Members of Co...</td>\n",
       "      <td>40009</td>\n",
       "      <td>[Mr,  Speaker, Mr,  Vice President, Members of...</td>\n",
       "      <td>352</td>\n",
       "      <td>113.661932</td>\n",
       "    </tr>\n",
       "  </tbody>\n",
       "</table>\n",
       "</div>"
      ],
      "text/plain": [
       "                 filename   name  year  \\\n",
       "0  speeches\\obama2010.txt  obama  2010   \n",
       "1  speeches\\obama2011.txt  obama  2011   \n",
       "2  speeches\\obama2012.txt  obama  2012   \n",
       "3  speeches\\obama2013.txt  obama  2013   \n",
       "4  speeches\\obama2014.txt  obama  2014   \n",
       "\n",
       "                                              speech  len_speech  \\\n",
       "0  Madam Speaker, Vice President Biden, members o...       43698   \n",
       "1  Mr. Speaker, Mr. Vice President, members of Co...       41023   \n",
       "2   Mr. Speaker, Mr. Vice President, members of C...       42204   \n",
       "3  Mr. Speaker, Mr. Vice President, members of Co...       41202   \n",
       "4  Mr. Speaker, Mr. Vice President, Members of Co...       40009   \n",
       "\n",
       "                                           sentences  num_sentences  \\\n",
       "0  [Madam Speaker, Vice President Biden, members ...            562   \n",
       "1  [Mr,  Speaker, Mr,  Vice President, members of...            500   \n",
       "2  [ Mr,  Speaker, Mr,  Vice President, members o...            518   \n",
       "3  [Mr,  Speaker, Mr,  Vice President, members of...            455   \n",
       "4  [Mr,  Speaker, Mr,  Vice President, Members of...            352   \n",
       "\n",
       "   average_sen_length  \n",
       "0           77.754448  \n",
       "1           82.046000  \n",
       "2           81.474903  \n",
       "3           90.553846  \n",
       "4          113.661932  "
      ]
     },
     "execution_count": 6,
     "metadata": {},
     "output_type": "execute_result"
    }
   ],
   "source": [
    "# Create column with average sentence length\n",
    "cleaned_speeches = cleaned_speeches.assign(average_sen_length = lambda x: x['len_speech'] / x[\"num_sentences\"])\n",
    "cleaned_speeches.head()"
   ]
  },
  {
   "cell_type": "markdown",
   "metadata": {},
   "source": [
    "We now obtain the readability scores of the speeches.\n",
    "\n",
    "There are a lot of readability scores, but we will focus on two scores:\n",
    "1. SMOG\n",
    "2. Flesch reading ease score"
   ]
  },
  {
   "cell_type": "code",
   "execution_count": 8,
   "metadata": {},
   "outputs": [
    {
     "data": {
      "text/html": [
       "<div>\n",
       "<style scoped>\n",
       "    .dataframe tbody tr th:only-of-type {\n",
       "        vertical-align: middle;\n",
       "    }\n",
       "\n",
       "    .dataframe tbody tr th {\n",
       "        vertical-align: top;\n",
       "    }\n",
       "\n",
       "    .dataframe thead th {\n",
       "        text-align: right;\n",
       "    }\n",
       "</style>\n",
       "<table border=\"1\" class=\"dataframe\">\n",
       "  <thead>\n",
       "    <tr style=\"text-align: right;\">\n",
       "      <th></th>\n",
       "      <th>filename</th>\n",
       "      <th>name</th>\n",
       "      <th>year</th>\n",
       "      <th>speech</th>\n",
       "      <th>len_speech</th>\n",
       "      <th>sentences</th>\n",
       "      <th>num_sentences</th>\n",
       "      <th>average_sen_length</th>\n",
       "      <th>SMOG_index</th>\n",
       "      <th>FleschReadingEase</th>\n",
       "    </tr>\n",
       "  </thead>\n",
       "  <tbody>\n",
       "    <tr>\n",
       "      <th>0</th>\n",
       "      <td>speeches\\obama2010.txt</td>\n",
       "      <td>obama</td>\n",
       "      <td>2010</td>\n",
       "      <td>Madam Speaker, Vice President Biden, members o...</td>\n",
       "      <td>43698</td>\n",
       "      <td>[Madam Speaker, Vice President Biden, members ...</td>\n",
       "      <td>562</td>\n",
       "      <td>77.754448</td>\n",
       "      <td>17.826429</td>\n",
       "      <td>24.720575</td>\n",
       "    </tr>\n",
       "    <tr>\n",
       "      <th>1</th>\n",
       "      <td>speeches\\obama2011.txt</td>\n",
       "      <td>obama</td>\n",
       "      <td>2011</td>\n",
       "      <td>Mr. Speaker, Mr. Vice President, members of Co...</td>\n",
       "      <td>41023</td>\n",
       "      <td>[Mr,  Speaker, Mr,  Vice President, members of...</td>\n",
       "      <td>500</td>\n",
       "      <td>82.046000</td>\n",
       "      <td>16.543303</td>\n",
       "      <td>32.322806</td>\n",
       "    </tr>\n",
       "    <tr>\n",
       "      <th>2</th>\n",
       "      <td>speeches\\obama2012.txt</td>\n",
       "      <td>obama</td>\n",
       "      <td>2012</td>\n",
       "      <td>Mr. Speaker, Mr. Vice President, members of C...</td>\n",
       "      <td>42204</td>\n",
       "      <td>[ Mr,  Speaker, Mr,  Vice President, members o...</td>\n",
       "      <td>518</td>\n",
       "      <td>81.474903</td>\n",
       "      <td>17.344065</td>\n",
       "      <td>26.228014</td>\n",
       "    </tr>\n",
       "    <tr>\n",
       "      <th>3</th>\n",
       "      <td>speeches\\obama2013.txt</td>\n",
       "      <td>obama</td>\n",
       "      <td>2013</td>\n",
       "      <td>Mr. Speaker, Mr. Vice President, members of Co...</td>\n",
       "      <td>41202</td>\n",
       "      <td>[Mr,  Speaker, Mr,  Vice President, members of...</td>\n",
       "      <td>455</td>\n",
       "      <td>90.553846</td>\n",
       "      <td>14.187551</td>\n",
       "      <td>52.062427</td>\n",
       "    </tr>\n",
       "    <tr>\n",
       "      <th>4</th>\n",
       "      <td>speeches\\obama2014.txt</td>\n",
       "      <td>obama</td>\n",
       "      <td>2014</td>\n",
       "      <td>Mr. Speaker, Mr. Vice President, Members of Co...</td>\n",
       "      <td>40009</td>\n",
       "      <td>[Mr,  Speaker, Mr,  Vice President, Members of...</td>\n",
       "      <td>352</td>\n",
       "      <td>113.661932</td>\n",
       "      <td>19.064501</td>\n",
       "      <td>9.227649</td>\n",
       "    </tr>\n",
       "  </tbody>\n",
       "</table>\n",
       "</div>"
      ],
      "text/plain": [
       "                 filename   name  year  \\\n",
       "0  speeches\\obama2010.txt  obama  2010   \n",
       "1  speeches\\obama2011.txt  obama  2011   \n",
       "2  speeches\\obama2012.txt  obama  2012   \n",
       "3  speeches\\obama2013.txt  obama  2013   \n",
       "4  speeches\\obama2014.txt  obama  2014   \n",
       "\n",
       "                                              speech  len_speech  \\\n",
       "0  Madam Speaker, Vice President Biden, members o...       43698   \n",
       "1  Mr. Speaker, Mr. Vice President, members of Co...       41023   \n",
       "2   Mr. Speaker, Mr. Vice President, members of C...       42204   \n",
       "3  Mr. Speaker, Mr. Vice President, members of Co...       41202   \n",
       "4  Mr. Speaker, Mr. Vice President, Members of Co...       40009   \n",
       "\n",
       "                                           sentences  num_sentences  \\\n",
       "0  [Madam Speaker, Vice President Biden, members ...            562   \n",
       "1  [Mr,  Speaker, Mr,  Vice President, members of...            500   \n",
       "2  [ Mr,  Speaker, Mr,  Vice President, members o...            518   \n",
       "3  [Mr,  Speaker, Mr,  Vice President, members of...            455   \n",
       "4  [Mr,  Speaker, Mr,  Vice President, Members of...            352   \n",
       "\n",
       "   average_sen_length  SMOG_index  FleschReadingEase  \n",
       "0           77.754448   17.826429          24.720575  \n",
       "1           82.046000   16.543303          32.322806  \n",
       "2           81.474903   17.344065          26.228014  \n",
       "3           90.553846   14.187551          52.062427  \n",
       "4          113.661932   19.064501           9.227649  "
      ]
     },
     "execution_count": 8,
     "metadata": {},
     "output_type": "execute_result"
    }
   ],
   "source": [
    "# Add SMOGIndex and FleschReadingEase as columns to dataframe\n",
    "smogindex_list = []\n",
    "flesch_list = []\n",
    "for sotu in cleaned_speeches.speech:\n",
    "    smogindex_list.append(readability.getmeasures(sotu,lang=\"en\")[\"readability grades\"][\"SMOGIndex\"])\n",
    "    flesch_list.append(readability.getmeasures(sotu,lang=\"en\")[\"readability grades\"][\"FleschReadingEase\"])\n",
    "\n",
    "cleaned_speeches[\"SMOG_index\"] = smogindex_list\n",
    "cleaned_speeches[\"FleschReadingEase\"] = flesch_list\n",
    "\n",
    "cleaned_speeches.head()"
   ]
  },
  {
   "cell_type": "markdown",
   "metadata": {},
   "source": [
    "## Visualizing the speech metrics\n",
    "\n",
    "We now perform data visualisation on the newly engineered metrics in our dataframe."
   ]
  },
  {
   "cell_type": "code",
   "execution_count": 9,
   "metadata": {},
   "outputs": [
    {
     "data": {
      "text/plain": [
       "<AxesSubplot:xlabel='name', ylabel='len_speech'>"
      ]
     },
     "execution_count": 9,
     "metadata": {},
     "output_type": "execute_result"
    },
    {
     "data": {
      "image/png": "[encoded data removed]",
      "text/plain": [
       "<Figure size 720x720 with 1 Axes>"
      ]
     },
     "metadata": {
      "needs_background": "light"
     },
     "output_type": "display_data"
    }
   ],
   "source": [
    "fig_dims = (10, 10)\n",
    "fig, ax = plt.subplots(figsize=fig_dims)\n",
    "sns.boxplot(data = cleaned_speeches, x = \"name\", y = \"len_speech\")"
   ]
  },
  {
   "cell_type": "code",
   "execution_count": 10,
   "metadata": {},
   "outputs": [
    {
     "data": {
      "text/plain": [
       "<AxesSubplot:xlabel='name', ylabel='num_sentences'>"
      ]
     },
     "execution_count": 10,
     "metadata": {},
     "output_type": "execute_result"
    },
    {
     "data": {
      "image/png": "[encoded data removed]",
      "text/plain": [
       "<Figure size 720x720 with 1 Axes>"
      ]
     },
     "metadata": {
      "needs_background": "light"
     },
     "output_type": "display_data"
    }
   ],
   "source": [
    "# num_sentences\n",
    "fig_dims = (10, 10)\n",
    "fig, ax = plt.subplots(figsize=fig_dims)\n",
    "sns.boxplot(data = cleaned_speeches, x = \"name\", y = \"num_sentences\")"
   ]
  },
  {
   "cell_type": "code",
   "execution_count": 11,
   "metadata": {},
   "outputs": [
    {
     "data": {
      "text/plain": [
       "<AxesSubplot:xlabel='name', ylabel='average_sen_length'>"
      ]
     },
     "execution_count": 11,
     "metadata": {},
     "output_type": "execute_result"
    },
    {
     "data": {
      "image/png": "[encoded data removed]",
      "text/plain": [
       "<Figure size 720x720 with 1 Axes>"
      ]
     },
     "metadata": {
      "needs_background": "light"
     },
     "output_type": "display_data"
    }
   ],
   "source": [
    "# Plot average_sen_length with a boxplot\n",
    "fig_dims = (10, 10)\n",
    "fig, ax = plt.subplots(figsize=fig_dims)\n",
    "sns.boxplot(data = cleaned_speeches, x = \"name\", y = \"average_sen_length\")"
   ]
  },
  {
   "cell_type": "code",
   "execution_count": 12,
   "metadata": {},
   "outputs": [
    {
     "name": "stdout",
     "output_type": "stream",
     "text": [
      "Obama's total average sentence length is:  90.5845968830769\n",
      "Trump's total average sentence length is:  89.77317446805695\n"
     ]
    }
   ],
   "source": [
    "# Print the average_sen_length\n",
    "obama = cleaned_speeches[cleaned_speeches[\"name\"] == \"obama\"]\n",
    "trump = cleaned_speeches[cleaned_speeches[\"name\"] == \"trump\"]\n",
    "\n",
    "print(\"Obama's total average sentence length is: \", obama[\"average_sen_length\"].sum() / len(obama))\n",
    "print(\"Trump's total average sentence length is: \",trump[\"average_sen_length\"].sum() / len(trump))"
   ]
  },
  {
   "cell_type": "code",
   "execution_count": 13,
   "metadata": {},
   "outputs": [
    {
     "data": {
      "text/plain": [
       "<AxesSubplot:xlabel='name', ylabel='SMOG_index'>"
      ]
     },
     "execution_count": 13,
     "metadata": {},
     "output_type": "execute_result"
    },
    {
     "data": {
      "image/png": "[encoded data removed]",
      "text/plain": [
       "<Figure size 720x720 with 1 Axes>"
      ]
     },
     "metadata": {
      "needs_background": "light"
     },
     "output_type": "display_data"
    }
   ],
   "source": [
    "# Plot SMOG_index with a boxplot\n",
    "fig_dims = (10, 10)\n",
    "fig, ax = plt.subplots(figsize=fig_dims)\n",
    "sns.boxplot(data = cleaned_speeches, x = \"name\", y = \"SMOG_index\")"
   ]
  },
  {
   "cell_type": "code",
   "execution_count": 14,
   "metadata": {},
   "outputs": [
    {
     "data": {
      "text/plain": [
       "<AxesSubplot:xlabel='name', ylabel='FleschReadingEase'>"
      ]
     },
     "execution_count": 14,
     "metadata": {},
     "output_type": "execute_result"
    },
    {
     "data": {
      "image/png": "[encoded data removed]",
      "text/plain": [
       "<Figure size 720x720 with 1 Axes>"
      ]
     },
     "metadata": {
      "needs_background": "light"
     },
     "output_type": "display_data"
    }
   ],
   "source": [
    "# Plot average_sen_length with a boxplot\n",
    "fig_dims = (10, 10)\n",
    "fig, ax = plt.subplots(figsize=fig_dims)\n",
    "sns.boxplot(data = cleaned_speeches, x = \"name\", y = \"FleschReadingEase\")"
   ]
  },
  {
   "cell_type": "markdown",
   "metadata": {},
   "source": [
    "From the barplots that were plotted for the SMOG and Flesch Reading Ease scores, we can generally say that Trump's speeches are easier to read, whereby Obama's speeches are harder. In fact, [this article ](https://www.firstrand.co.za/perspectives/an-analysis-of-president-donald-trump-s-use-of-language/) attributes one of the factors leading to Trump's rise to power was the ease of understanding his messages in his speeches."
   ]
  },
  {
   "cell_type": "code",
   "execution_count": 15,
   "metadata": {},
   "outputs": [],
   "source": [
    "# Export the DataFrame to CSV\n",
    "cleaned_speeches.to_csv(\"part2.csv\")"
   ]
  }
 ],
 "metadata": {
  "kernelspec": {
   "display_name": "Python 3 (ipykernel)",
   "language": "python",
   "name": "python3"
  },
  "language_info": {
   "codemirror_mode": {
    "name": "ipython",
    "version": 3
   },
   "file_extension": ".py",
   "mimetype": "text/x-python",
   "name": "python",
   "nbconvert_exporter": "python",
   "pygments_lexer": "ipython3",
   "version": "3.7.0"
  }
 },
 "nbformat": 4,
 "nbformat_minor": 4
}
