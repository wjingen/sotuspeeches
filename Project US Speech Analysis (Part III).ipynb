{
 "cells": [
  {
   "cell_type": "markdown",
   "metadata": {},
   "source": [
    "# Part 3: NLP using spaCy"
   ]
  },
  {
   "cell_type": "markdown",
   "metadata": {},
   "source": [
    "According to a team of researchers from the Baruch Ivcher School of Psychology, a <u>high noun-to-verb ratio is a subtle linguistic trait that can reduce anger in response to policies</u>. Source: <a href='https://journals.sagepub.com/doi/abs/10.1177/0956797618772823?journalCode=pssa&'>here</a>.\n",
    "\n",
    "In this part, we shall use the NLP library spaCy to extract parts-of-speech tags from the speeches, and calculate the noun-to-verb score."
   ]
  },
  {
   "cell_type": "code",
   "execution_count": 1,
   "metadata": {},
   "outputs": [],
   "source": [
    "# import libraries\n",
    "import pandas as pd\n",
    "import spacy\n",
    "import matplotlib.pyplot as plt\n",
    "import seaborn as sns"
   ]
  },
  {
   "cell_type": "code",
   "execution_count": null,
   "metadata": {},
   "outputs": [],
   "source": [
    "spacy.load('en_core_web_sm')\n",
    "# !pip install spacy==3.3.1"
   ]
  },
  {
   "cell_type": "code",
   "execution_count": null,
   "metadata": {},
   "outputs": [],
   "source": [
    "cleaned_speeches = pd.read_csv(\"part2.csv\", index_col = 0)\n",
    "cleaned_speeches.head()"
   ]
  },
  {
   "cell_type": "code",
   "execution_count": null,
   "metadata": {},
   "outputs": [],
   "source": [
    "# Get a list of POS tags found in Obama's 2010 speech\n",
    "\n",
    "nlp = spacy.load('en_core_web_sm')\n",
    "doc = nlp(cleaned_speeches.speech[0])\n",
    "\n",
    "pos_obama2010 = []\n",
    "for token in doc:\n",
    "    pos_obama2010.append(token.pos_)"
   ]
  },
  {
   "cell_type": "code",
   "execution_count": null,
   "metadata": {
    "tags": []
   },
   "outputs": [],
   "source": [
    "from collections import Counter"
   ]
  },
  {
   "cell_type": "code",
   "execution_count": null,
   "metadata": {},
   "outputs": [],
   "source": [
    "counter_obama2010 =  Counter(pos_obama2010)\n",
    "counter_obama2010"
   ]
  },
  {
   "cell_type": "code",
   "execution_count": null,
   "metadata": {},
   "outputs": [],
   "source": [
    "# Get the value of the key 'NOUN' in the Obama 2010 POS Counter \n",
    "print(counter_obama2010[\"NOUN\"])"
   ]
  },
  {
   "cell_type": "code",
   "execution_count": null,
   "metadata": {},
   "outputs": [],
   "source": [
    "# Get the counts for NOUN and VERB from speech\n",
    "noun_list = []\n",
    "verb_list = []\n",
    "\n",
    "for key,value in cleaned_speeches.iterrows():\n",
    "\n",
    "    doc = nlp(value.speech)\n",
    "    pos = [token.pos_ for token in doc]\n",
    "    counter = Counter(pos)\n",
    "    noun_list.append(counter[\"NOUN\"])\n",
    "    verb_list.append(counter[\"VERB\"])\n",
    "    \n",
    "print(noun_list)\n"
   ]
  },
  {
   "cell_type": "code",
   "execution_count": null,
   "metadata": {},
   "outputs": [],
   "source": [
    "cleaned_speeches[\"NOUN_count\"] = noun_list\n",
    "cleaned_speeches[\"VERB_count\"] = verb_list\n",
    "cleaned_speeches.head()"
   ]
  },
  {
   "cell_type": "code",
   "execution_count": null,
   "metadata": {},
   "outputs": [],
   "source": [
    "# Derive the noun-to-verb ratio\n",
    "\n",
    "cleaned_speeches = cleaned_speeches.assign(noun_to_verb = lambda x: x.NOUN_count / x.VERB_count)\n",
    "cleaned_speeches"
   ]
  },
  {
   "cell_type": "code",
   "execution_count": null,
   "metadata": {},
   "outputs": [],
   "source": [
    "# Compare the two politicians' noun-to-verb ratio\n",
    "fig_dims = (10, 10)\n",
    "fig, ax = plt.subplots(figsize=fig_dims)\n",
    "sns.boxplot(data = cleaned_speeches, x = \"name\", y = \"noun_to_verb\")"
   ]
  }
 ],
 "metadata": {
  "kernelspec": {
   "display_name": "Python 3 (ipykernel)",
   "language": "python",
   "name": "python3"
  },
  "language_info": {
   "codemirror_mode": {
    "name": "ipython",
    "version": 3
   },
   "file_extension": ".py",
   "mimetype": "text/x-python",
   "name": "python",
   "nbconvert_exporter": "python",
   "pygments_lexer": "ipython3",
   "version": "3.7.0"
  }
 },
 "nbformat": 4,
 "nbformat_minor": 4
}
